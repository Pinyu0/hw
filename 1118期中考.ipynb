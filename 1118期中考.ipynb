{
  "nbformat": 4,
  "nbformat_minor": 0,
  "metadata": {
    "colab": {
      "name": "1118期中考.ipynb",
      "provenance": [],
      "authorship_tag": "ABX9TyOkpcKKFRLjA3384iH0O6Lm",
      "include_colab_link": true
    },
    "kernelspec": {
      "name": "python3",
      "display_name": "Python 3"
    }
  },
  "cells": [
    {
      "cell_type": "markdown",
      "metadata": {
        "id": "view-in-github",
        "colab_type": "text"
      },
      "source": [
        "<a href=\"https://colab.research.google.com/github/Pinyu0/hw/blob/master/1118%E6%9C%9F%E4%B8%AD%E8%80%83.ipynb\" target=\"_parent\"><img src=\"https://colab.research.google.com/assets/colab-badge.svg\" alt=\"Open In Colab\"/></a>"
      ]
    },
    {
      "cell_type": "markdown",
      "metadata": {
        "id": "w7kkaiBB26QH"
      },
      "source": [
        "插入排序法"
      ]
    },
    {
      "cell_type": "code",
      "metadata": {
        "colab": {
          "base_uri": "https://localhost:8080/"
        },
        "id": "1-C777OY27n1",
        "outputId": "2b765e9f-5f4a-46fb-c395-0a9a69282c3f"
      },
      "source": [
        "#插入(由小到大排序)、需解釋演算法設計(註解)\n",
        "def insertionSort (arr):  \n",
        "    for i in range(len(arr)):  \n",
        "      preindex = i-1   #設立一個變數，將i-1值放入預索引值內\n",
        "      present = arr[i]  #再設立另一個變數來放陣列的第i數值\n",
        "      while preindex >= 0 and arr[preindex] > present:  #當預索引的值大於等於0且陣列的第i-1個數值大於陣列的第i個數值即進入while迴圈   \n",
        "          arr[preindex+1] = arr[preindex]  #陣列的i-1個數值放入preindex+1內\n",
        "          preindex-=1  #preindex-1，重複上面次序直到praindex小於0為止 \n",
        "      arr[preindex+1]=present  #把比陣列i-1小的數值插入至合適位置\n",
        "      print(\"第\",i+1,\"次排序:\",arr)  #輸出第?次排序的數值\n",
        "      print('-----'*10)  #分隔線\n",
        "    return arr   \n",
        "\n",
        "\n",
        "number=8  #要產生8個數字\n",
        "lists = [None]*number  \n",
        "if __name__ == '__main__':  \n",
        "  import random  #亂數產出一組list\n",
        "  for i in range(number):   #設立迴圈，範圍設定在八個數字裡面\n",
        "    lists[i] = random.randint (1,100)  #輸出結果為1到100之間\n",
        "  print(\"\\n原始數列:\",lists)   #輸出原始串列\n",
        "  lists = insertionSort(lists)   #輸出插入排序法後的串列結果，跑上面程式\n",
        "  print (\"最後結果:\",lists) #輸出排序後最終結果"
      ],
      "execution_count": 27,
      "outputs": [
        {
          "output_type": "stream",
          "text": [
            "\n",
            "原始數列: [73, 78, 21, 84, 68, 30, 31, 60]\n",
            "第 1 次排序: [73, 78, 21, 84, 68, 30, 31, 60]\n",
            "--------------------------------------------------\n",
            "第 2 次排序: [73, 78, 21, 84, 68, 30, 31, 60]\n",
            "--------------------------------------------------\n",
            "第 3 次排序: [21, 73, 78, 84, 68, 30, 31, 60]\n",
            "--------------------------------------------------\n",
            "第 4 次排序: [21, 73, 78, 84, 68, 30, 31, 60]\n",
            "--------------------------------------------------\n",
            "第 5 次排序: [21, 68, 73, 78, 84, 30, 31, 60]\n",
            "--------------------------------------------------\n",
            "第 6 次排序: [21, 30, 68, 73, 78, 84, 31, 60]\n",
            "--------------------------------------------------\n",
            "第 7 次排序: [21, 30, 31, 68, 73, 78, 84, 60]\n",
            "--------------------------------------------------\n",
            "第 8 次排序: [21, 30, 31, 60, 68, 73, 78, 84]\n",
            "--------------------------------------------------\n",
            "最後結果: [21, 30, 31, 60, 68, 73, 78, 84]\n"
          ],
          "name": "stdout"
        }
      ]
    },
    {
      "cell_type": "markdown",
      "metadata": {
        "id": "F2i3FRRt3Fbw"
      },
      "source": [
        "選擇排序法"
      ]
    },
    {
      "cell_type": "code",
      "metadata": {
        "colab": {
          "base_uri": "https://localhost:8080/"
        },
        "id": "GfgWBPJW3G9w",
        "outputId": "02074d37-b60a-4943-99f5-4d12aff98b0a"
      },
      "source": [
        "#選擇(由大到小排序)、需解釋演算法設計(註解)\n",
        "def Selction_Sort(datas):   \n",
        "    for i in range(len(datas)-1):   \n",
        "        max = i       #把i放進max數中，第一次選從第一個數開始,第二次從第二個數開始，以此類推...\n",
        "        for j in range(i+1, len(datas)):     #在for迴圈內用記錄的數與其他的數做比較\n",
        "            if datas[j] > datas[max]:     #當j數值比max數值大時\n",
        "                max = j          #即把j放入max數\n",
        "\n",
        "        datas[i], datas[max] = datas[max], datas[i]   #跳出迴圈，max數值已經比i數值還大，要把數值對調\n",
        "\n",
        "        print(\"第\",i+1,\"次排序\",datas)  #輸出第?次排序的數值\n",
        "        print('-----'*10)  #分隔線\n",
        "    return datas  \n",
        "\n",
        "\n",
        "number=8  #要產生8個數字\n",
        "lists=[None]*number   \n",
        "if __name__ == '__main__':    \n",
        "    import random   #亂數產出一組list\n",
        "    for i in range(number):   #設立迴圈，範圍設定在八個數字裡面\n",
        "      lists[i]=random.randint(1,100)    #輸出結果為1到100之間\n",
        "    print(\"\\n原始數列:\",lists)    #輸出原始串列\n",
        "    lists = Selction_Sort(lists)  #輸出選擇排序法後的串列結果，跑上面程式\n",
        "    print(\"最後結果:\",lists)     #輸出排序後最終結果"
      ],
      "execution_count": 23,
      "outputs": [
        {
          "output_type": "stream",
          "text": [
            "\n",
            "原始數列: [47, 38, 85, 22, 32, 56, 89, 21]\n",
            "第 1 次排序 [89, 38, 85, 22, 32, 56, 47, 21]\n",
            "--------------------------------------------------\n",
            "第 2 次排序 [89, 85, 38, 22, 32, 56, 47, 21]\n",
            "--------------------------------------------------\n",
            "第 3 次排序 [89, 85, 56, 22, 32, 38, 47, 21]\n",
            "--------------------------------------------------\n",
            "第 4 次排序 [89, 85, 56, 47, 32, 38, 22, 21]\n",
            "--------------------------------------------------\n",
            "第 5 次排序 [89, 85, 56, 47, 38, 32, 22, 21]\n",
            "--------------------------------------------------\n",
            "第 6 次排序 [89, 85, 56, 47, 38, 32, 22, 21]\n",
            "--------------------------------------------------\n",
            "第 7 次排序 [89, 85, 56, 47, 38, 32, 22, 21]\n",
            "--------------------------------------------------\n",
            "最後結果: [89, 85, 56, 47, 38, 32, 22, 21]\n"
          ],
          "name": "stdout"
        }
      ]
    }
  ]
}