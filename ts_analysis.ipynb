{
  "nbformat": 4,
  "nbformat_minor": 0,
  "metadata": {
    "colab": {
      "name": " ts_analysis.ipynb",
      "provenance": [],
      "authorship_tag": "ABX9TyNV10W6XoyYKEsWUGm8QaIl",
      "include_colab_link": true
    },
    "kernelspec": {
      "name": "python3",
      "display_name": "Python 3"
    }
  },
  "cells": [
    {
      "cell_type": "markdown",
      "metadata": {
        "id": "view-in-github",
        "colab_type": "text"
      },
      "source": [
        "<a href=\"https://colab.research.google.com/github/Pinyu0/hw/blob/master/ts_analysis.ipynb\" target=\"_parent\"><img src=\"https://colab.research.google.com/assets/colab-badge.svg\" alt=\"Open In Colab\"/></a>"
      ]
    },
    {
      "cell_type": "code",
      "metadata": {
        "id": "3rpwRj-S19FF",
        "outputId": "6e59cee2-c482-45cd-e7db-ea02b849b3e0",
        "colab": {
          "base_uri": "https://localhost:8080/"
        }
      },
      "source": [
        "#寫註解\n",
        "#如何判斷某年是不是閏年?\n",
        "#[空間換時間]遞迴一直算\n",
        "#相比起第二種來說很明顯非常節省空間,但每一次查詢都需要經過一系列的計算才能知道是否為閏年。 \n",
        "#省空間、花時間\n",
        "year = int(input(\"請輸入一個年份:\"))  #請使用者自行輸入整數年份\n",
        "if (year % 4) == 0 and (year % 100) !=0 or (year % 400) == 0: #閏年是所輸入年份除以4能整除和除以100不等於0或除以400等於0\n",
        "    print(\"%s年是閏年\" % year) #以上結果得出使用者所輸入數字為閏年\n",
        "else: #若不符合if迴圈則跑到這行\n",
        "    print(\"%s年不是閏年\" % year) #以上結果得出使用者輸入數字不是閏年"
      ],
      "execution_count": null,
      "outputs": [
        {
          "output_type": "stream",
          "text": [
            "請輸入一個年份:2020\n",
            "2020年是閏年\n"
          ],
          "name": "stdout"
        }
      ]
    },
    {
      "cell_type": "code",
      "metadata": {
        "id": "6hZN3qAt8tDw",
        "outputId": "c61b4423-f220-48cd-cea9-18b246f394ef",
        "colab": {
          "base_uri": "https://localhost:8080/"
        }
      },
      "source": [
        "#寫註解\n",
        "#[時間換空間]\n",
        "#第二種方法雖然需要在記憶體裡儲存所有年份的陣列(2000年-2040年),但是每次查詢只需要一次索引判斷即可。\n",
        "#省時間、花空間\n",
        "\n",
        "arr=['2000','2004','2008','2012','2016','2020','2024','2028','2032','2036','2040']#將所有2000-2040年中為閏年的設定為陣列\n",
        "year = input(\"請輸入一個年份:\")  #請使用者自行輸入年份\n",
        "if year in arr: #若使用者輸入的年份在陣列中\n",
        "    print(\"%s年是閏年\" % year)  #輸出結果是閏年\n",
        "else: #若使用者輸入的年份不在陣列中\n",
        "    print(\"%s年不是閏年\" % year)  #輸出結果不是閏年"
      ],
      "execution_count": null,
      "outputs": [
        {
          "output_type": "stream",
          "text": [
            "請輸入一個年份:2028\n",
            "2028年是閏年\n"
          ],
          "name": "stdout"
        }
      ]
    }
  ]
}