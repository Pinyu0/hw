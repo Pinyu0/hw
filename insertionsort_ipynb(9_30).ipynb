{
  "nbformat": 4,
  "nbformat_minor": 0,
  "metadata": {
    "colab": {
      "name": "insertionsort.ipynb(9/30)",
      "provenance": [],
      "collapsed_sections": [],
      "include_colab_link": true
    },
    "kernelspec": {
      "name": "python3",
      "display_name": "Python 3"
    }
  },
  "cells": [
    {
      "cell_type": "markdown",
      "metadata": {
        "id": "view-in-github",
        "colab_type": "text"
      },
      "source": [
        "<a href=\"https://colab.research.google.com/github/Pinyu0/hw/blob/master/insertionsort_ipynb(9_30).ipynb\" target=\"_parent\"><img src=\"https://colab.research.google.com/assets/colab-badge.svg\" alt=\"Open In Colab\"/></a>"
      ]
    },
    {
      "cell_type": "markdown",
      "metadata": {
        "id": "j95w6SLwOC0z"
      },
      "source": [
        "Insertion sort (插入排序)"
      ]
    },
    {
      "cell_type": "code",
      "metadata": {
        "id": "BxBaYEwzNj_v",
        "outputId": "485fd524-5721-4dfb-ff0c-5b0f8d00fc33",
        "colab": {
          "base_uri": "https://localhost:8080/",
          "height": 286
        }
      },
      "source": [
        "\n",
        "def Insertion_Sort(datas):\n",
        "    for i in range(1, len(datas)):  #n \n",
        "        for j in range(i):    #n\n",
        "            current = datas[i]  \n",
        "            if current < datas[j]:  \n",
        "                for k in range(i,j):  #n\n",
        "                  print(datas)  \n",
        "    return datas  #1\n",
        "\n",
        "\n",
        "def insertionSort(arr): \n",
        "    for i in range(len(arr)): #n\n",
        "        preIndex = i-1  \n",
        "        current = arr[i]  \n",
        "        while preIndex >= 0 and arr[preIndex] > current:  #n^2\n",
        "            arr[preIndex+1] = arr[preIndex] #n\n",
        "            preIndex-=1 #n\n",
        "        arr[preIndex+1] = current #n\n",
        "        print(arr)  \n",
        "    return arr  #1\n",
        "\n",
        "if __name__ == '__main__':\n",
        "    import random\n",
        "    a = list(range(1,16)) #1\n",
        "    random.shuffle(a) \n",
        "    b = a.copy()  #1\n",
        "\n",
        "    arr = insertionSort(a)  #1\n",
        "    print('---'*10) \n",
        "    Insertion_Sort(b) "
      ],
      "execution_count": 1,
      "outputs": [
        {
          "output_type": "stream",
          "text": [
            "[5, 13, 2, 10, 15, 7, 14, 6, 8, 1, 11, 4, 3, 9, 12]\n",
            "[5, 13, 2, 10, 15, 7, 14, 6, 8, 1, 11, 4, 3, 9, 12]\n",
            "[2, 5, 13, 10, 15, 7, 14, 6, 8, 1, 11, 4, 3, 9, 12]\n",
            "[2, 5, 10, 13, 15, 7, 14, 6, 8, 1, 11, 4, 3, 9, 12]\n",
            "[2, 5, 10, 13, 15, 7, 14, 6, 8, 1, 11, 4, 3, 9, 12]\n",
            "[2, 5, 7, 10, 13, 15, 14, 6, 8, 1, 11, 4, 3, 9, 12]\n",
            "[2, 5, 7, 10, 13, 14, 15, 6, 8, 1, 11, 4, 3, 9, 12]\n",
            "[2, 5, 6, 7, 10, 13, 14, 15, 8, 1, 11, 4, 3, 9, 12]\n",
            "[2, 5, 6, 7, 8, 10, 13, 14, 15, 1, 11, 4, 3, 9, 12]\n",
            "[1, 2, 5, 6, 7, 8, 10, 13, 14, 15, 11, 4, 3, 9, 12]\n",
            "[1, 2, 5, 6, 7, 8, 10, 11, 13, 14, 15, 4, 3, 9, 12]\n",
            "[1, 2, 4, 5, 6, 7, 8, 10, 11, 13, 14, 15, 3, 9, 12]\n",
            "[1, 2, 3, 4, 5, 6, 7, 8, 10, 11, 13, 14, 15, 9, 12]\n",
            "[1, 2, 3, 4, 5, 6, 7, 8, 9, 10, 11, 13, 14, 15, 12]\n",
            "[1, 2, 3, 4, 5, 6, 7, 8, 9, 10, 11, 12, 13, 14, 15]\n",
            "------------------------------\n"
          ],
          "name": "stdout"
        }
      ]
    }
  ]
}