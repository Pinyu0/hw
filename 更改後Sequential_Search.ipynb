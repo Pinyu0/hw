{
  "nbformat": 4,
  "nbformat_minor": 0,
  "metadata": {
    "colab": {
      "name": "更改後Sequential Search.ipynb",
      "provenance": [],
      "authorship_tag": "ABX9TyOpyzjrmgLTYN7yDkxCpxf3",
      "include_colab_link": true
    },
    "kernelspec": {
      "name": "python3",
      "display_name": "Python 3"
    }
  },
  "cells": [
    {
      "cell_type": "markdown",
      "metadata": {
        "id": "view-in-github",
        "colab_type": "text"
      },
      "source": [
        "<a href=\"https://colab.research.google.com/github/Pinyu0/hw/blob/master/%E6%9B%B4%E6%94%B9%E5%BE%8CSequential_Search.ipynb\" target=\"_parent\"><img src=\"https://colab.research.google.com/assets/colab-badge.svg\" alt=\"Open In Colab\"/></a>"
      ]
    },
    {
      "cell_type": "code",
      "metadata": {
        "id": "5ilom_uUxbXV",
        "outputId": "ee7f7f17-7523-4fcf-c8bb-91bbecdd4f3f",
        "colab": {
          "base_uri": "https://localhost:8080/",
          "height": 34
        }
      },
      "source": [
        "data = [20,31,50,17,16,39,19,8]\n",
        "def sequential_search(data,key):\n",
        "  for i in data:\n",
        "    if i == key:\n",
        "      print(\"找到了\")\n",
        "      break\n",
        "\n",
        "  else: #跳脫for迴圈\n",
        "    print(\"找不到\")\n",
        "     \n",
        "sequential_search(data,31)#搜尋只需更改後面數字即可"
      ],
      "execution_count": 73,
      "outputs": [
        {
          "output_type": "stream",
          "text": [
            "找到了\n"
          ],
          "name": "stdout"
        }
      ]
    },
    {
      "cell_type": "code",
      "metadata": {
        "id": "x4iCjg3y1VYH",
        "outputId": "2b226d25-0cdd-4328-d55b-0ae708002ec9",
        "colab": {
          "base_uri": "https://localhost:8080/",
          "height": 34
        }
      },
      "source": [
        "data = [20,31,50,17,16,39,19,8]\n",
        "\n",
        "def sequential_search(data, key):\n",
        "    tmp = [0] * (len(data) + 1)    #設一個空陣列，長度為data長度+1\n",
        "    for i in range(1, len(data)):  #將data的值給到tmp\n",
        "        tmp[i] = data[i - 1]\n",
        "    tmp[0] = key                   #設定key值\n",
        "    i = len(data)                  #設定索引並開始比較\n",
        "    while tmp[i] != tmp[0]:\n",
        "        i -= 1\n",
        "    return i - 1                   #回傳索引\n",
        "\n",
        "index = sequential_search(data,17)\n",
        "if index >= 0:\n",
        "    print(\"finde the index: \" + str(index))\n",
        "else:\n",
        "    print(\"can't find the index\")"
      ],
      "execution_count": 58,
      "outputs": [
        {
          "output_type": "stream",
          "text": [
            "finde the index: 3\n"
          ],
          "name": "stdout"
        }
      ]
    }
  ]
}