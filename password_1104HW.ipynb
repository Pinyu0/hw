{
  "nbformat": 4,
  "nbformat_minor": 0,
  "metadata": {
    "colab": {
      "name": "password 1104HW.ipynb",
      "provenance": [],
      "authorship_tag": "ABX9TyNADhZWqF8K9oWl5inMC+S3",
      "include_colab_link": true
    },
    "kernelspec": {
      "name": "python3",
      "display_name": "Python 3"
    }
  },
  "cells": [
    {
      "cell_type": "markdown",
      "metadata": {
        "id": "view-in-github",
        "colab_type": "text"
      },
      "source": [
        "<a href=\"https://colab.research.google.com/github/Pinyu0/hw/blob/master/password_1104HW.ipynb\" target=\"_parent\"><img src=\"https://colab.research.google.com/assets/colab-badge.svg\" alt=\"Open In Colab\"/></a>"
      ]
    },
    {
      "cell_type": "code",
      "metadata": {
        "id": "5FGEzUI2EWSq",
        "outputId": "ef56eab0-34a6-4835-9971-1932a8d13adc",
        "colab": {
          "base_uri": "https://localhost:8080/"
        }
      },
      "source": [
        "#可用二元搜尋做\n",
        "\n",
        "\n",
        "from random import randint\n",
        " \n",
        "#規定範圍並產生密碼\n",
        "lowest = 1\n",
        "highest = 100\n",
        "answer = randint(lowest, highest)\n",
        " \n",
        "#重複猜數字，直到猜對為止\n",
        "while True:\n",
        "    guess = input('密碼介於 ' + str(lowest) + '-' + str(highest) + ':\\n>>')\n",
        " \n",
        "    #檢查輸入的內容是否為數字\n",
        "    try:\n",
        "        guess = int(guess)  #把字串轉換成整數\n",
        "    except ValueError:  #轉換失敗便要求重新輸入數字\n",
        "        print('格式錯誤，請輸入數字\\n')\n",
        "        continue\n",
        "\n",
        "        #檢查輸入的數字是否介於規定範圍內\n",
        "    if guess <= lowest or guess >= highest:\n",
        "        print('請輸入 ' + str(lowest) + '-' + str(highest) + ' 之間的整數\\n')\n",
        "        continue\n",
        " \n",
        "        #判斷有沒有猜中密碼\n",
        "    if guess == answer:\n",
        "        print('答對了！')\n",
        "        break   #猜對才跳脫迴圈\n",
        "    elif guess < answer:\n",
        "        lowest = guess\n",
        "    else:\n",
        "        highest = guess3"
      ],
      "execution_count": 1,
      "outputs": [
        {
          "output_type": "stream",
          "text": [
            "密碼介於 1-100:\n",
            ">>2\n",
            "密碼介於 2-100:\n",
            ">>4\n",
            "密碼介於 4-100:\n",
            ">>5\n",
            "密碼介於 5-100:\n",
            ">>6\n",
            "密碼介於 6-100:\n",
            ">>99\n",
            "密碼介於 6-99:\n",
            ">>50\n",
            "密碼介於 6-50:\n",
            ">>43\n",
            "密碼介於 6-43:\n",
            ">>20\n",
            "密碼介於 6-20:\n",
            ">>14\n",
            "密碼介於 14-20:\n",
            ">>16\n",
            "密碼介於 16-20:\n",
            ">>19\n",
            "密碼介於 16-19:\n",
            ">>17\n",
            "答對了！\n"
          ],
          "name": "stdout"
        }
      ]
    }
  ]
}