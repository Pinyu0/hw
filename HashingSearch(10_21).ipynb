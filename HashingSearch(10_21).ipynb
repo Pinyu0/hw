{
  "nbformat": 4,
  "nbformat_minor": 0,
  "metadata": {
    "colab": {
      "name": "HashingSearch(10/21).ipynb",
      "provenance": [],
      "authorship_tag": "ABX9TyOSzc0MCG2HS1s5M+ofoe2R",
      "include_colab_link": true
    },
    "kernelspec": {
      "name": "python3",
      "display_name": "Python 3"
    }
  },
  "cells": [
    {
      "cell_type": "markdown",
      "metadata": {
        "id": "view-in-github",
        "colab_type": "text"
      },
      "source": [
        "<a href=\"https://colab.research.google.com/github/Pinyu0/hw/blob/master/HashingSearch(10_21).ipynb\" target=\"_parent\"><img src=\"https://colab.research.google.com/assets/colab-badge.svg\" alt=\"Open In Colab\"/></a>"
      ]
    },
    {
      "cell_type": "markdown",
      "metadata": {
        "id": "VuC9-xbhmdkN"
      },
      "source": [
        "線性"
      ]
    },
    {
      "cell_type": "code",
      "metadata": {
        "id": "BZvqo8HgmR57",
        "outputId": "20e1a0be-d69e-40b1-ff4f-bde02dbbb78b",
        "colab": {
          "base_uri": "https://localhost:8080/",
          "height": 230
        }
      },
      "source": [
        "import random\n",
        "\n",
        "INDEXBOX=10 #雜湊表最大元素\n",
        "MAXNUM=7  #最大資料個數\n",
        "\n",
        "def print_data(data,max_number):\n",
        "  print('\\t',end='')\n",
        "  for i in range(max_number):\n",
        "    print('[%2d]'%data[i],end='')\n",
        "  print()\n",
        "\n",
        "def create_table(num,index):\n",
        "  tmp=num%INDEXBOX\n",
        "  while True:\n",
        "    if index[tmp]==-1:\n",
        "      index[tmp]=num\n",
        "      break\n",
        "    else:\n",
        "      tmp=(tmp+1)%INDEXBOX\n",
        "\n",
        "#Main\n",
        "index=[None]*INDEXBOX\n",
        "data=[None]*MAXNUM\n",
        "\n",
        "print('原始陣列值:')\n",
        "for i in range(MAXNUM):\n",
        "  data[i]=random.randint(1,20)\n",
        "for i in range(INDEXBOX):\n",
        "  index[i]=-1\n",
        "print_data(data,MAXNUM)\n",
        "\n",
        "print('雜湊表內容:')\n",
        "for i in range(MAXNUM):\n",
        "  create_table(data[i],index)\n",
        "  print(' %2d=>'%data[i],end='')\n",
        "  print_data(index,INDEXBOX)\n",
        "\n",
        "print('完成雜湊表:')\n",
        "print_data(index,INDEXBOX)"
      ],
      "execution_count": 1,
      "outputs": [
        {
          "output_type": "stream",
          "text": [
            "原始陣列值:\n",
            "\t[ 8][ 8][ 8][20][10][15][13]\n",
            "雜湊表內容:\n",
            "  8=>\t[-1][-1][-1][-1][-1][-1][-1][-1][ 8][-1]\n",
            "  8=>\t[-1][-1][-1][-1][-1][-1][-1][-1][ 8][ 8]\n",
            "  8=>\t[ 8][-1][-1][-1][-1][-1][-1][-1][ 8][ 8]\n",
            " 20=>\t[ 8][20][-1][-1][-1][-1][-1][-1][ 8][ 8]\n",
            " 10=>\t[ 8][20][10][-1][-1][-1][-1][-1][ 8][ 8]\n",
            " 15=>\t[ 8][20][10][-1][-1][15][-1][-1][ 8][ 8]\n",
            " 13=>\t[ 8][20][10][13][-1][15][-1][-1][ 8][ 8]\n",
            "完成雜湊表:\n",
            "\t[ 8][20][10][13][-1][15][-1][-1][ 8][ 8]\n"
          ],
          "name": "stdout"
        }
      ]
    },
    {
      "cell_type": "markdown",
      "metadata": {
        "id": "TR0wZeC4momk"
      },
      "source": [
        "平方法"
      ]
    },
    {
      "cell_type": "code",
      "metadata": {
        "id": "Edh0BIImm4VW",
        "outputId": "58c94655-aa4f-4e21-f75e-63645688f237",
        "colab": {
          "base_uri": "https://localhost:8080/",
          "height": 230
        }
      },
      "source": [
        "import random\n",
        "\n",
        "INDEXBOX=10 #雜湊表最大元素\n",
        "MAXNUM=7  #最大資料個數\n",
        "\n",
        "def print_data(data,max_number):\n",
        "  print('\\t',end='')\n",
        "  for i in range(max_number):\n",
        "    print('[%2d]'%data[i],end='')\n",
        "  print()\n",
        "  \n",
        "def create_table(num,index):\n",
        "  tmp=num%INDEXBOX\n",
        "  b=1\n",
        "  while True:\n",
        "    if index[tmp]==-1:\n",
        "      index[tmp]=num\n",
        "      break\n",
        "    else:\n",
        "      tmp=num%INDEXBOX\n",
        "      tmp=(tmp+b**2)%INDEXBOX\n",
        "      b=b+1\n",
        "#Main\n",
        "index=[None]*INDEXBOX\n",
        "data=[None]*MAXNUM\n",
        "\n",
        "print('原始陣列值:')\n",
        "for i in range(MAXNUM):\n",
        "  data[i]=random.randint(1,20)\n",
        "for i in range(INDEXBOX):\n",
        "  index[i]=-1\n",
        "print_data(data,MAXNUM)\n",
        "\n",
        "print('雜湊表內容:')\n",
        "for i in range(MAXNUM):\n",
        "  create_table(data[i],index)\n",
        "  print(' %2d=>'%data[i],end='')\n",
        "  print_data(index,INDEXBOX)\n",
        "\n",
        "print('完成雜湊表:')\n",
        "print_data(index,INDEXBOX)"
      ],
      "execution_count": 2,
      "outputs": [
        {
          "output_type": "stream",
          "text": [
            "原始陣列值:\n",
            "\t[18][20][ 1][ 5][ 9][19][10]\n",
            "雜湊表內容:\n",
            " 18=>\t[-1][-1][-1][-1][-1][-1][-1][-1][18][-1]\n",
            " 20=>\t[20][-1][-1][-1][-1][-1][-1][-1][18][-1]\n",
            "  1=>\t[20][ 1][-1][-1][-1][-1][-1][-1][18][-1]\n",
            "  5=>\t[20][ 1][-1][-1][-1][ 5][-1][-1][18][-1]\n",
            "  9=>\t[20][ 1][-1][-1][-1][ 5][-1][-1][18][ 9]\n",
            " 19=>\t[20][ 1][-1][19][-1][ 5][-1][-1][18][ 9]\n",
            " 10=>\t[20][ 1][-1][19][10][ 5][-1][-1][18][ 9]\n",
            "完成雜湊表:\n",
            "\t[20][ 1][-1][19][10][ 5][-1][-1][18][ 9]\n"
          ],
          "name": "stdout"
        }
      ]
    },
    {
      "cell_type": "markdown",
      "metadata": {
        "id": "anA4ZO4Sm7-4"
      },
      "source": [
        "再雜湊"
      ]
    },
    {
      "cell_type": "code",
      "metadata": {
        "id": "5dOjzSakm-YU",
        "outputId": "4b709986-f08b-4dc4-a3c9-7eb6eedd49d0",
        "colab": {
          "base_uri": "https://localhost:8080/",
          "height": 230
        }
      },
      "source": [
        "import random\n",
        "\n",
        "INDEXBOX=10 #雜湊表最大元素\n",
        "MAXNUM=7  #最大資料個數\n",
        "\n",
        "def print_data(data,max_number):\n",
        "  print('\\t',end='')\n",
        "  for i in range(max_number):\n",
        "    print('[%2d]'%data[i],end='')\n",
        "  print()\n",
        "  \n",
        "def create_table(num,index):\n",
        "  tmp=num%INDEXBOX\n",
        "  b=1\n",
        "  while True:\n",
        "    if index[tmp]==-1:\n",
        "      index[tmp]=num\n",
        "      break\n",
        "    else:\n",
        "      tmp=num%INDEXBOX\n",
        "      tmp=(tmp+2*b)%INDEXBOX\n",
        "      b=b+1\n",
        "#Main\n",
        "index=[None]*INDEXBOX\n",
        "data=[None]*MAXNUM\n",
        "\n",
        "print('原始陣列值:')\n",
        "for i in range(MAXNUM):\n",
        "  data[i]=random.randint(1,20)\n",
        "for i in range(INDEXBOX):\n",
        "  index[i]=-1\n",
        "print_data(data,MAXNUM)\n",
        "\n",
        "print('雜湊表內容:')\n",
        "for i in range(MAXNUM):\n",
        "  create_table(data[i],index)\n",
        "  print(' %2d=>'%data[i],end='')\n",
        "  print_data(index,INDEXBOX)\n",
        "\n",
        "print('完成雜湊表:')\n",
        "print_data(index,INDEXBOX)"
      ],
      "execution_count": 3,
      "outputs": [
        {
          "output_type": "stream",
          "text": [
            "原始陣列值:\n",
            "\t[ 8][ 4][17][ 7][ 3][19][ 7]\n",
            "雜湊表內容:\n",
            "  8=>\t[-1][-1][-1][-1][-1][-1][-1][-1][ 8][-1]\n",
            "  4=>\t[-1][-1][-1][-1][ 4][-1][-1][-1][ 8][-1]\n",
            " 17=>\t[-1][-1][-1][-1][ 4][-1][-1][17][ 8][-1]\n",
            "  7=>\t[-1][-1][-1][-1][ 4][-1][-1][17][ 8][ 7]\n",
            "  3=>\t[-1][-1][-1][ 3][ 4][-1][-1][17][ 8][ 7]\n",
            " 19=>\t[-1][19][-1][ 3][ 4][-1][-1][17][ 8][ 7]\n",
            "  7=>\t[-1][19][-1][ 3][ 4][ 7][-1][17][ 8][ 7]\n",
            "完成雜湊表:\n",
            "\t[-1][19][-1][ 3][ 4][ 7][-1][17][ 8][ 7]\n"
          ],
          "name": "stdout"
        }
      ]
    },
    {
      "cell_type": "markdown",
      "metadata": {
        "id": "y2RMQgqfnTTO"
      },
      "source": [
        "------以上是作業------"
      ]
    },
    {
      "cell_type": "code",
      "metadata": {
        "id": "NetRBAP4BTXh",
        "outputId": "50dce902-7d9b-46b2-bf54-1795ea3cf05a",
        "colab": {
          "base_uri": "https://localhost:8080/",
          "height": 248
        }
      },
      "source": [
        "#結果顯示:平方探測法、再雜湊\n",
        "\n",
        "import random\n",
        "INDEXBOX=10 #雜湊表最大元素\n",
        "MAXNUM=7  #最大資料個數\n",
        "\n",
        "def print_data(data,max_number): #列印陣列副程式\n",
        "  print('\\t',end='')\n",
        "  for i in range(max_number):\n",
        "    print('[%2d]'%data[i],end='')\n",
        "  print()\n",
        "\n",
        "def creat_table(num,index): #建立雜湊表副程式\n",
        "  tmp=num%INDEXBOX #雜湊函數=資料%INDEXBOX\n",
        "  while True:\n",
        "    if index[tmp]==-1: #如果資料對應位置是空的\n",
        "      index[tmp]=num #則直接存入資料\n",
        "      break\n",
        "    else:\n",
        "      tmp=(tmp+1)%INDEXBOX #否則往後找位置存放\n",
        "\n",
        "#主程式\n",
        "index=[None]*INDEXBOX\n",
        "data=[None]*MAXNUM\n",
        "\n",
        "print('原始陣列值:')\n",
        "for i in range(MAXNUM): #起始資料值\n",
        "  data[i]=random.randint(1,20)\n",
        "for i in range(INDEXBOX): #清除雜湊表\n",
        "  index[i]=-1 \n",
        "print_data(data,MAXNUM) #列印起始資料\n",
        "\n",
        "print('雜湊表內容:')\n",
        "for i in range(MAXNUM): #建立雜湊表\n",
        "  creat_table(data[i],index)\n",
        "  print(' %2d =>'%data[i],end='') #列印單一元素的雜湊表位置\n",
        "  print_data(index,INDEXBOX)\n",
        "\n",
        "\n",
        "print('完成雜湊表:')\n",
        "print_data(index,INDEXBOX) #列印最後完成結果\n",
        "\n",
        "\n",
        "print('平方探測法:')\n",
        "print_data()"
      ],
      "execution_count": null,
      "outputs": [
        {
          "output_type": "stream",
          "text": [
            "原始陣列值:\n",
            "\t[15][11][14][18][19][ 9][ 2]\n",
            "雜湊表內容:\n",
            " 15 =>\t[-1][-1][-1][-1][-1][15][-1][-1][-1][-1]\n",
            " 11 =>\t[-1][11][-1][-1][-1][15][-1][-1][-1][-1]\n",
            " 14 =>\t[-1][11][-1][-1][14][15][-1][-1][-1][-1]\n",
            " 18 =>\t[-1][11][-1][-1][14][15][-1][-1][18][-1]\n",
            " 19 =>\t[-1][11][-1][-1][14][15][-1][-1][18][19]\n",
            "  9 =>\t[ 9][11][-1][-1][14][15][-1][-1][18][19]\n",
            "  2 =>\t[ 9][11][ 2][-1][14][15][-1][-1][18][19]\n",
            "完成雜湊表:\n",
            "\t[ 9][11][ 2][-1][14][15][-1][-1][18][19]\n",
            "平方探測法:\n"
          ],
          "name": "stdout"
        }
      ]
    },
    {
      "cell_type": "code",
      "metadata": {
        "id": "s9SJDYXiMpTS"
      },
      "source": [
        ""
      ],
      "execution_count": null,
      "outputs": []
    }
  ]
}