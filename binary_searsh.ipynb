{
  "nbformat": 4,
  "nbformat_minor": 0,
  "metadata": {
    "colab": {
      "name": "binary searsh.ipynb",
      "provenance": [],
      "authorship_tag": "ABX9TyOVT0tfcOxxHkMzRMSVH7p5",
      "include_colab_link": true
    },
    "kernelspec": {
      "name": "python3",
      "display_name": "Python 3"
    }
  },
  "cells": [
    {
      "cell_type": "markdown",
      "metadata": {
        "id": "view-in-github",
        "colab_type": "text"
      },
      "source": [
        "<a href=\"https://colab.research.google.com/github/Pinyu0/hw/blob/master/binary_searsh.ipynb\" target=\"_parent\"><img src=\"https://colab.research.google.com/assets/colab-badge.svg\" alt=\"Open In Colab\"/></a>"
      ]
    },
    {
      "cell_type": "code",
      "metadata": {
        "id": "lpgwy2Nv8nen",
        "outputId": "ba97a979-3575-4e5f-cf73-3be3d973ec5c",
        "colab": {
          "base_uri": "https://localhost:8080/",
          "height": 34
        }
      },
      "source": [
        "#原本程式\n",
        "def binarySearch(arr,l,r,x):\n",
        "\n",
        "  if r>=l:\n",
        "    mid=l+(r-1)//2\n",
        "\n",
        "    if arr[mid]==x:\n",
        "      return mid\n",
        "\n",
        "    elif arr[mid]>x:\n",
        "      return binarySearch(arr,l,mid-1,x)\n",
        "\n",
        "    else:\n",
        "      return binarySearch(arr,mid+1,r,x)\n",
        "  else:\n",
        "    return-1\n",
        "\n",
        "arr = [5,8,9,15,30]\n",
        "x=9\n",
        "\n",
        "#Function call\n",
        "result = binarySearch(arr,0,len(arr)-1,x)\n",
        "\n",
        "if result != -1:\n",
        "    print(\"元素在索引%d\" % result)\n",
        "else:\n",
        "    print(\"陣列中找不到該元素\")"
      ],
      "execution_count": 18,
      "outputs": [
        {
          "output_type": "stream",
          "text": [
            "元素在索引2\n"
          ],
          "name": "stdout"
        }
      ]
    },
    {
      "cell_type": "code",
      "metadata": {
        "id": "g23aJZhAEfEj",
        "outputId": "34d666fa-7d65-482b-84dd-ec2e7ee2463d",
        "colab": {
          "base_uri": "https://localhost:8080/",
          "height": 151
        }
      },
      "source": [
        "#更改後程式\n",
        "#arr內值更改為輸入5個數字(無排序)\n",
        "#先排序後二元搜尋\n",
        "def binarySearch(arr,l,r,x):\n",
        "\n",
        "  if r>=l:\n",
        "    mid=l+(r-1)//2\n",
        "\n",
        "    if arr[mid]==x:\n",
        "      return mid\n",
        "\n",
        "    elif arr[mid]>x:\n",
        "      return binarySearch(arr,l,mid-1,x)\n",
        "\n",
        "    else:\n",
        "      return binarySearch(arr,mid+1,r,x)\n",
        "  else:\n",
        "    return-1\n",
        "\n",
        "def Bubble_Sort(datas):\n",
        "\n",
        "    for i in range(1, len(datas)): \n",
        "        for j in range(len(datas)-i):   \n",
        "            if datas[j] >= datas[j+1]:   \n",
        "              datas[j], datas[j+1] = datas[j+1], datas[j]\n",
        "    return datas\n",
        "\n",
        "arr = []\n",
        "for x in range(5):\n",
        "  a = int(input(\"請輸入5個數字\")) #a等於輸入的5個整數(每輸入一個值請先按enter)\n",
        "  arr.append(a) #把a放到陣列內最後\n",
        "b=Bubble_Sort(arr)  #設定變數b由泡沫排序排列\n",
        "print(\"排序後的結果是%s\"% b)  #輸出泡沫排序結果\n",
        "\n",
        "x=10\n",
        "print(\"要搜尋的key value值是%s\" % x)\n",
        "#Function call\n",
        "result = binarySearch(arr,0,len(arr)-1,x)\n",
        "\n",
        "if result != -1:\n",
        "    print(\"元素在索引%d\" % result)\n",
        "else:\n",
        "    print(\"陣列中找不到該元素\")"
      ],
      "execution_count": 41,
      "outputs": [
        {
          "output_type": "stream",
          "text": [
            "請輸入5個數字23\n",
            "請輸入5個數字2\n",
            "請輸入5個數字3\n",
            "請輸入5個數字9\n",
            "請輸入5個數字10\n",
            "排序後結果是[2, 3, 9, 10, 23]\n",
            "要搜尋的key value值是10\n",
            "元素在索引3\n"
          ],
          "name": "stdout"
        }
      ]
    }
  ]
}