{
  "nbformat": 4,
  "nbformat_minor": 0,
  "metadata": {
    "colab": {
      "name": "binary searsh.ipynb",
      "provenance": [],
      "authorship_tag": "ABX9TyPqnaKVL/yR3uIGJK+Rnm2A",
      "include_colab_link": true
    },
    "kernelspec": {
      "name": "python3",
      "display_name": "Python 3"
    }
  },
  "cells": [
    {
      "cell_type": "markdown",
      "metadata": {
        "id": "view-in-github",
        "colab_type": "text"
      },
      "source": [
        "<a href=\"https://colab.research.google.com/github/Pinyu0/hw/blob/master/binary_searsh.ipynb\" target=\"_parent\"><img src=\"https://colab.research.google.com/assets/colab-badge.svg\" alt=\"Open In Colab\"/></a>"
      ]
    },
    {
      "cell_type": "code",
      "metadata": {
        "id": "lpgwy2Nv8nen",
        "outputId": "ba97a979-3575-4e5f-cf73-3be3d973ec5c",
        "colab": {
          "base_uri": "https://localhost:8080/",
          "height": 34
        }
      },
      "source": [
        "#原本程式\n",
        "def binarySearch(arr,l,r,x):\n",
        "\n",
        "  if r>=l:\n",
        "    mid=l+(r-1)//2\n",
        "\n",
        "    if arr[mid]==x:\n",
        "      return mid\n",
        "\n",
        "    elif arr[mid]>x:\n",
        "      return binarySearch(arr,l,mid-1,x)\n",
        "\n",
        "    else:\n",
        "      return binarySearch(arr,mid+1,r,x)\n",
        "  else:\n",
        "    return-1\n",
        "\n",
        "arr = [5,8,9,15,30]\n",
        "x=9\n",
        "\n",
        "#Function call\n",
        "result = binarySearch(arr,0,len(arr)-1,x)\n",
        "\n",
        "if result != -1:\n",
        "    print(\"元素在索引%d\" % result)\n",
        "else:\n",
        "    print(\"陣列中找不到該元素\")"
      ],
      "execution_count": 18,
      "outputs": [
        {
          "output_type": "stream",
          "text": [
            "元素在索引2\n"
          ],
          "name": "stdout"
        }
      ]
    },
    {
      "cell_type": "code",
      "metadata": {
        "id": "g23aJZhAEfEj"
      },
      "source": [
        "#更改後程式\n",
        "#arr內值更改為輸入5個數字(無排序)\n",
        "#先排序後二元搜尋\n",
        "def binarySearch(arr,l,r,x):\n",
        "\n",
        "  if r>=l:\n",
        "    mid=l+(r-1)//2\n",
        "\n",
        "    if arr[mid]==x:\n",
        "      return mid\n",
        "\n",
        "    elif arr[mid]>x:\n",
        "      return binarySearch(arr,l,mid-1,x)\n",
        "\n",
        "    else:\n",
        "      return binarySearch(arr,mid+1,r,x)\n",
        "  else:\n",
        "    return-1\n",
        "\n",
        "for i in range(0,5)\n",
        "arr = []\n",
        "x=9\n",
        "\n",
        "#Function call\n",
        "result = binarySearch(arr,0,len(arr)-1,x)\n",
        "\n",
        "if result != -1:\n",
        "    print(\"元素在索引%d\" % result)\n",
        "else:\n",
        "    print(\"陣列中找不到該元素\")"
      ],
      "execution_count": null,
      "outputs": []
    }
  ]
}