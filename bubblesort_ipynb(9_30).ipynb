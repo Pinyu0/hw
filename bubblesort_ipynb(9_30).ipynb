{
  "nbformat": 4,
  "nbformat_minor": 0,
  "metadata": {
    "colab": {
      "name": "bubblesort.ipynb(9/30)",
      "provenance": [],
      "include_colab_link": true
    },
    "kernelspec": {
      "name": "python3",
      "display_name": "Python 3"
    }
  },
  "cells": [
    {
      "cell_type": "markdown",
      "metadata": {
        "id": "view-in-github",
        "colab_type": "text"
      },
      "source": [
        "<a href=\"https://colab.research.google.com/github/Pinyu0/hw/blob/master/bubblesort_ipynb(9_30).ipynb\" target=\"_parent\"><img src=\"https://colab.research.google.com/assets/colab-badge.svg\" alt=\"Open In Colab\"/></a>"
      ]
    },
    {
      "cell_type": "markdown",
      "metadata": {
        "id": "32sgU0StMiof"
      },
      "source": [
        "Bubble sort (氣泡排序)"
      ]
    },
    {
      "cell_type": "code",
      "metadata": {
        "id": "esB_4fSeMLYJ",
        "outputId": "66fde30c-441d-48cd-9393-03d10126aed0",
        "colab": {
          "base_uri": "https://localhost:8080/",
          "height": 269
        }
      },
      "source": [
        "def Bubble_Sort(datas):\n",
        "\n",
        "    for i in range(1, len(datas)): \n",
        "        for j in range(len(datas)-i):   \n",
        "            if datas[j] >= datas[j+1]: \n",
        "              print(datas[j],\"a\",\"i=\",i)   \n",
        "              datas[j], datas[j+1] = datas[j+1], datas[j]\n",
        "              print(datas[j],\"b\",\"j=\",j)\n",
        "    return datas\n",
        "\n",
        "arr = []\n",
        "for i in range(6):\n",
        "  a = int(input(\"輸入6個數字\"))\n",
        "  arr.append(a)\n",
        "\n",
        "b=Bubble_Sort(arr)\n",
        "\n",
        "print(b)\n",
        "\n",
        "\n"
      ],
      "execution_count": 21,
      "outputs": [
        {
          "output_type": "stream",
          "text": [
            "輸入6個數字23\n",
            "輸入6個數字54\n",
            "輸入6個數字65\n",
            "輸入6個數字75\n",
            "輸入6個數字654\n",
            "輸入6個數字45\n",
            "654 a i= 1\n",
            "45 b j= 4\n",
            "75 a i= 2\n",
            "45 b j= 3\n",
            "65 a i= 3\n",
            "45 b j= 2\n",
            "54 a i= 4\n",
            "45 b j= 1\n",
            "[23, 45, 54, 65, 75, 654]\n"
          ],
          "name": "stdout"
        }
      ]
    },
    {
      "cell_type": "markdown",
      "metadata": {
        "id": "MOQ_aZKnM-wL"
      },
      "source": [
        "請加入註解，並將程式修改為加入六個數做氣泡排序\n"
      ]
    }
  ]
}