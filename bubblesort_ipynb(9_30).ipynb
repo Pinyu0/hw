{
  "nbformat": 4,
  "nbformat_minor": 0,
  "metadata": {
    "colab": {
      "name": "bubblesort.ipynb(9/30)",
      "provenance": [],
      "include_colab_link": true
    },
    "kernelspec": {
      "name": "python3",
      "display_name": "Python 3"
    }
  },
  "cells": [
    {
      "cell_type": "markdown",
      "metadata": {
        "id": "view-in-github",
        "colab_type": "text"
      },
      "source": [
        "<a href=\"https://colab.research.google.com/github/Pinyu0/hw/blob/master/bubblesort_ipynb(9_30).ipynb\" target=\"_parent\"><img src=\"https://colab.research.google.com/assets/colab-badge.svg\" alt=\"Open In Colab\"/></a>"
      ]
    },
    {
      "cell_type": "markdown",
      "metadata": {
        "id": "32sgU0StMiof"
      },
      "source": [
        "Bubble sort (氣泡排序)"
      ]
    },
    {
      "cell_type": "code",
      "metadata": {
        "id": "esB_4fSeMLYJ",
        "outputId": "9a12fbf4-1eb5-40c6-cd39-7921305a108b",
        "colab": {
          "base_uri": "https://localhost:8080/",
          "height": 269
        }
      },
      "source": [
        "def Bubble_Sort(datas):\n",
        "\n",
        "    for i in range(1, len(datas)): \n",
        "        for j in range(len(datas)-i):   \n",
        "            if datas[j] >= datas[j+1]: \n",
        "              print(datas[j],\"a\",\"i=\",i)   \n",
        "              datas[j], datas[j+1] = datas[j+1], datas[j]\n",
        "              print(datas[j],\"b\",\"j=\",j)\n",
        "    return datas\n",
        "\n",
        "arr = []  #設定陣列\n",
        "for i in range(6):  #設定for迴圈,範圍設定在6個數字以內\n",
        "  a = int(input(\"輸入6個數字\")) #a等於輸入的六個整數\n",
        "  arr.append(a) #把a放到陣列內最後\n",
        "b=Bubble_Sort(arr)  #設定變數b由泡沫排序排列\n",
        "print(b)  #輸出泡沫排序結果"
      ],
      "execution_count": 29,
      "outputs": [
        {
          "output_type": "stream",
          "text": [
            "輸入6個數字2\n",
            "輸入6個數字4\n",
            "輸入6個數字5\n",
            "輸入6個數字8\n",
            "輸入6個數字9\n",
            "輸入6個數字3\n",
            "9 a i= 1\n",
            "3 b j= 4\n",
            "8 a i= 2\n",
            "3 b j= 3\n",
            "5 a i= 3\n",
            "3 b j= 2\n",
            "4 a i= 4\n",
            "3 b j= 1\n",
            "[2, 3, 4, 5, 8, 9]\n"
          ],
          "name": "stdout"
        }
      ]
    },
    {
      "cell_type": "markdown",
      "metadata": {
        "id": "MOQ_aZKnM-wL"
      },
      "source": [
        "請加入註解，並將程式修改為加入六個數做氣泡排序\n"
      ]
    }
  ]
}