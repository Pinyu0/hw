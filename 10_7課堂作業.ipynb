{
  "nbformat": 4,
  "nbformat_minor": 0,
  "metadata": {
    "colab": {
      "name": "10/7課堂作業.ipynb",
      "provenance": [],
      "authorship_tag": "ABX9TyMzPFsSee5uPif3t/X5NQv0",
      "include_colab_link": true
    },
    "kernelspec": {
      "name": "python3",
      "display_name": "Python 3"
    }
  },
  "cells": [
    {
      "cell_type": "markdown",
      "metadata": {
        "id": "view-in-github",
        "colab_type": "text"
      },
      "source": [
        "<a href=\"https://colab.research.google.com/github/Pinyu0/hw/blob/master/10_7%E8%AA%B2%E5%A0%82%E4%BD%9C%E6%A5%AD.ipynb\" target=\"_parent\"><img src=\"https://colab.research.google.com/assets/colab-badge.svg\" alt=\"Open In Colab\"/></a>"
      ]
    },
    {
      "cell_type": "code",
      "metadata": {
        "id": "CIZEMCh2t9-s"
      },
      "source": [
        "用 Big-O 來表示最多次(概略)的執行次數\n",
        "3n+1= ? O(n)\n",
        "3n+3= ? O(n)\n",
        "50n+5= ? O(n)\n",
        "10n2+5n+1 = ? O(n^2)\n",
        "5*2n+n2 = ? O(2^n)\n",
        "\n",
        "O(4) + O(N) = ? O(n)\n",
        "O(logN) + O(logN) + O(logN) = ? O(logn)\n",
        "O(N) + O(N2) = ? O(n^2)\n",
        "\n"
      ],
      "execution_count": null,
      "outputs": []
    }
  ]
}