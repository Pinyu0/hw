{
  "nbformat": 4,
  "nbformat_minor": 0,
  "metadata": {
    "colab": {
      "name": "河內塔作業.ipynb",
      "provenance": [],
      "authorship_tag": "ABX9TyMlgIXg78wDxRYtomj9kjVH",
      "include_colab_link": true
    },
    "kernelspec": {
      "name": "python3",
      "display_name": "Python 3"
    }
  },
  "cells": [
    {
      "cell_type": "markdown",
      "metadata": {
        "id": "view-in-github",
        "colab_type": "text"
      },
      "source": [
        "<a href=\"https://colab.research.google.com/github/Pinyu0/hw/blob/master/%E6%B2%B3%E5%85%A7%E5%A1%94%E4%BD%9C%E6%A5%AD.ipynb\" target=\"_parent\"><img src=\"https://colab.research.google.com/assets/colab-badge.svg\" alt=\"Open In Colab\"/></a>"
      ]
    },
    {
      "cell_type": "code",
      "metadata": {
        "id": "aIAg4nMLLDFs",
        "outputId": "c6e815c3-b544-476c-d4a1-a4d96e927eab",
        "colab": {
          "base_uri": "https://localhost:8080/"
        }
      },
      "source": [
        "def hanoi(n, A, B, C):\n",
        "    if n == 1:\n",
        "        return [(A, C)]\n",
        "    else:\n",
        "        return hanoi(n-1, A, C, B) + hanoi(1, A, B, C) + hanoi(n-1, B, A, C)\n",
        "\n",
        "n = 5\n",
        "for move in hanoi(5, 'A', 'B', 'C'):\n",
        "    print(\"盤子由 %c 移到 %c\" % move)\n",
        "kazo=0\n",
        "number=input(\"please type an integer: \")\n",
        "for move in hanoi(int(number),'start','temp','end'):\n",
        "  kazo = kazo +1\n",
        "  message ='盤由{first}移至{second}'.format(first=move[0],second=move[1])\n",
        "  print(message,\"跑了\",kazo,\"次\")\n"
      ],
      "execution_count": 3,
      "outputs": [
        {
          "output_type": "stream",
          "text": [
            "盤子由 A 移到 C\n",
            "盤子由 A 移到 B\n",
            "盤子由 C 移到 B\n",
            "盤子由 A 移到 C\n",
            "盤子由 B 移到 A\n",
            "盤子由 B 移到 C\n",
            "盤子由 A 移到 C\n",
            "盤子由 A 移到 B\n",
            "盤子由 C 移到 B\n",
            "盤子由 C 移到 A\n",
            "盤子由 B 移到 A\n",
            "盤子由 C 移到 B\n",
            "盤子由 A 移到 C\n",
            "盤子由 A 移到 B\n",
            "盤子由 C 移到 B\n",
            "盤子由 A 移到 C\n",
            "盤子由 B 移到 A\n",
            "盤子由 B 移到 C\n",
            "盤子由 A 移到 C\n",
            "盤子由 B 移到 A\n",
            "盤子由 C 移到 B\n",
            "盤子由 C 移到 A\n",
            "盤子由 B 移到 A\n",
            "盤子由 B 移到 C\n",
            "盤子由 A 移到 C\n",
            "盤子由 A 移到 B\n",
            "盤子由 C 移到 B\n",
            "盤子由 A 移到 C\n",
            "盤子由 B 移到 A\n",
            "盤子由 B 移到 C\n",
            "盤子由 A 移到 C\n",
            "please type an integer: 5\n",
            "盤由start移至end 跑了 1 次\n",
            "盤由start移至temp 跑了 2 次\n",
            "盤由end移至temp 跑了 3 次\n",
            "盤由start移至end 跑了 4 次\n",
            "盤由temp移至start 跑了 5 次\n",
            "盤由temp移至end 跑了 6 次\n",
            "盤由start移至end 跑了 7 次\n",
            "盤由start移至temp 跑了 8 次\n",
            "盤由end移至temp 跑了 9 次\n",
            "盤由end移至start 跑了 10 次\n",
            "盤由temp移至start 跑了 11 次\n",
            "盤由end移至temp 跑了 12 次\n",
            "盤由start移至end 跑了 13 次\n",
            "盤由start移至temp 跑了 14 次\n",
            "盤由end移至temp 跑了 15 次\n",
            "盤由start移至end 跑了 16 次\n",
            "盤由temp移至start 跑了 17 次\n",
            "盤由temp移至end 跑了 18 次\n",
            "盤由start移至end 跑了 19 次\n",
            "盤由temp移至start 跑了 20 次\n",
            "盤由end移至temp 跑了 21 次\n",
            "盤由end移至start 跑了 22 次\n",
            "盤由temp移至start 跑了 23 次\n",
            "盤由temp移至end 跑了 24 次\n",
            "盤由start移至end 跑了 25 次\n",
            "盤由start移至temp 跑了 26 次\n",
            "盤由end移至temp 跑了 27 次\n",
            "盤由start移至end 跑了 28 次\n",
            "盤由temp移至start 跑了 29 次\n",
            "盤由temp移至end 跑了 30 次\n",
            "盤由start移至end 跑了 31 次\n"
          ],
          "name": "stdout"
        }
      ]
    }
  ]
}