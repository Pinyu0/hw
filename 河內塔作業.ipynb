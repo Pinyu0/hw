{
  "nbformat": 4,
  "nbformat_minor": 0,
  "metadata": {
    "colab": {
      "name": "河內塔作業.ipynb",
      "provenance": [],
      "authorship_tag": "ABX9TyMN25OAeOTlAHxy5nTyBeTs",
      "include_colab_link": true
    },
    "kernelspec": {
      "name": "python3",
      "display_name": "Python 3"
    }
  },
  "cells": [
    {
      "cell_type": "markdown",
      "metadata": {
        "id": "view-in-github",
        "colab_type": "text"
      },
      "source": [
        "<a href=\"https://colab.research.google.com/github/Pinyu0/hw/blob/master/%E6%B2%B3%E5%85%A7%E5%A1%94%E4%BD%9C%E6%A5%AD.ipynb\" target=\"_parent\"><img src=\"https://colab.research.google.com/assets/colab-badge.svg\" alt=\"Open In Colab\"/></a>"
      ]
    },
    {
      "cell_type": "code",
      "metadata": {
        "id": "aIAg4nMLLDFs",
        "outputId": "b0c4168d-905c-4a4c-dbf0-30571d709aea",
        "colab": {
          "base_uri": "https://localhost:8080/"
        }
      },
      "source": [
        "def hanoi(n, A, B, C):\n",
        "    if n == 1:\n",
        "        return [(A, C)]\n",
        "    else:\n",
        "        return hanoi(n-1, A, C, B) + hanoi(1, A, B, C) + hanoi(n-1, B, A, C)\n",
        "\n",
        "n = 5\n",
        "for move in hanoi(5, 'A', 'B', 'C'):\n",
        "    print(\"盤子由 %c 移到 %c\" % move)"
      ],
      "execution_count": 22,
      "outputs": [
        {
          "output_type": "stream",
          "text": [
            "盤子由 A 移到 C\n",
            "盤子由 A 移到 B\n",
            "盤子由 C 移到 B\n",
            "盤子由 A 移到 C\n",
            "盤子由 B 移到 A\n",
            "盤子由 B 移到 C\n",
            "盤子由 A 移到 C\n",
            "盤子由 A 移到 B\n",
            "盤子由 C 移到 B\n",
            "盤子由 C 移到 A\n",
            "盤子由 B 移到 A\n",
            "盤子由 C 移到 B\n",
            "盤子由 A 移到 C\n",
            "盤子由 A 移到 B\n",
            "盤子由 C 移到 B\n",
            "盤子由 A 移到 C\n",
            "盤子由 B 移到 A\n",
            "盤子由 B 移到 C\n",
            "盤子由 A 移到 C\n",
            "盤子由 B 移到 A\n",
            "盤子由 C 移到 B\n",
            "盤子由 C 移到 A\n",
            "盤子由 B 移到 A\n",
            "盤子由 B 移到 C\n",
            "盤子由 A 移到 C\n",
            "盤子由 A 移到 B\n",
            "盤子由 C 移到 B\n",
            "盤子由 A 移到 C\n",
            "盤子由 B 移到 A\n",
            "盤子由 B 移到 C\n",
            "盤子由 A 移到 C\n"
          ],
          "name": "stdout"
        }
      ]
    }
  ]
}