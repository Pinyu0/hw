{
  "nbformat": 4,
  "nbformat_minor": 0,
  "metadata": {
    "colab": {
      "name": "河內塔作業.ipynb",
      "provenance": [],
      "authorship_tag": "ABX9TyNrl14uWGM1oWhPs1rvTPD9",
      "include_colab_link": true
    },
    "kernelspec": {
      "name": "python3",
      "display_name": "Python 3"
    }
  },
  "cells": [
    {
      "cell_type": "markdown",
      "metadata": {
        "id": "view-in-github",
        "colab_type": "text"
      },
      "source": [
        "<a href=\"https://colab.research.google.com/github/Pinyu0/hw/blob/master/%E6%B2%B3%E5%85%A7%E5%A1%94%E4%BD%9C%E6%A5%AD.ipynb\" target=\"_parent\"><img src=\"https://colab.research.google.com/assets/colab-badge.svg\" alt=\"Open In Colab\"/></a>"
      ]
    },
    {
      "cell_type": "code",
      "metadata": {
        "id": "q8Qah1QlEI6N",
        "outputId": "6f363d2a-d701-4580-a2bb-4ae6152eece6",
        "colab": {
          "base_uri": "https://localhost:8080/"
        }
      },
      "source": [
        "#五個盤子做移動\n",
        "import time\n",
        "starttime = time.time()\n",
        "\n",
        "def hanoi(n,A,B,C):\n",
        "    if n==1:\n",
        "        print(f\"放 {n} 從 {A} 到 {C}\")\n",
        "    else:\n",
        "        hano(n-1,A,C,B)\n",
        "        print(f\"放 {n} 從 {A} 到 {C}\")\n",
        "        hano(n-1,B,A,C)\n",
        "\n",
        "n= int(input(\"請輸入圈數:\"))\n",
        "hano(n,\"A\",\"B\",\"C\")\n",
        "tend=time.time()\n",
        "print(f\"It cost {tend-starttime} sec\")"
      ],
      "execution_count": 2,
      "outputs": [
        {
          "output_type": "stream",
          "text": [
            "請輸入圈數:6\n",
            "放 1 從 A 到 B\n",
            "放 2 從 A 到 C\n",
            "放 1 從 B 到 C\n",
            "放 3 從 A 到 B\n",
            "放 1 從 C 到 A\n",
            "放 2 從 C 到 B\n",
            "放 1 從 A 到 B\n",
            "放 4 從 A 到 C\n",
            "放 1 從 B 到 C\n",
            "放 2 從 B 到 A\n",
            "放 1 從 C 到 A\n",
            "放 3 從 B 到 C\n",
            "放 1 從 A 到 B\n",
            "放 2 從 A 到 C\n",
            "放 1 從 B 到 C\n",
            "放 5 從 A 到 B\n",
            "放 1 從 C 到 A\n",
            "放 2 從 C 到 B\n",
            "放 1 從 A 到 B\n",
            "放 3 從 C 到 A\n",
            "放 1 從 B 到 C\n",
            "放 2 從 B 到 A\n",
            "放 1 從 C 到 A\n",
            "放 4 從 C 到 B\n",
            "放 1 從 A 到 B\n",
            "放 2 從 A 到 C\n",
            "放 1 從 B 到 C\n",
            "放 3 從 A 到 B\n",
            "放 1 從 C 到 A\n",
            "放 2 從 C 到 B\n",
            "放 1 從 A 到 B\n",
            "放 6 從 A 到 C\n",
            "放 1 從 B 到 C\n",
            "放 2 從 B 到 A\n",
            "放 1 從 C 到 A\n",
            "放 3 從 B 到 C\n",
            "放 1 從 A 到 B\n",
            "放 2 從 A 到 C\n",
            "放 1 從 B 到 C\n",
            "放 4 從 B 到 A\n",
            "放 1 從 C 到 A\n",
            "放 2 從 C 到 B\n",
            "放 1 從 A 到 B\n",
            "放 3 從 C 到 A\n",
            "放 1 從 B 到 C\n",
            "放 2 從 B 到 A\n",
            "放 1 從 C 到 A\n",
            "放 5 從 B 到 C\n",
            "放 1 從 A 到 B\n",
            "放 2 從 A 到 C\n",
            "放 1 從 B 到 C\n",
            "放 3 從 A 到 B\n",
            "放 1 從 C 到 A\n",
            "放 2 從 C 到 B\n",
            "放 1 從 A 到 B\n",
            "放 4 從 A 到 C\n",
            "放 1 從 B 到 C\n",
            "放 2 從 B 到 A\n",
            "放 1 從 C 到 A\n",
            "放 3 從 B 到 C\n",
            "放 1 從 A 到 B\n",
            "放 2 從 A 到 C\n",
            "放 1 從 B 到 C\n",
            "It cost 20.086844205856323 sec\n"
          ],
          "name": "stdout"
        }
      ]
    }
  ]
}