{
  "nbformat": 4,
  "nbformat_minor": 0,
  "metadata": {
    "colab": {
      "name": "1202.ipynb",
      "provenance": [],
      "collapsed_sections": [],
      "authorship_tag": "ABX9TyOllxwDGvHnScsK2+MukdjR",
      "include_colab_link": true
    },
    "kernelspec": {
      "name": "python3",
      "display_name": "Python 3"
    }
  },
  "cells": [
    {
      "cell_type": "markdown",
      "metadata": {
        "id": "view-in-github",
        "colab_type": "text"
      },
      "source": [
        "<a href=\"https://colab.research.google.com/github/Pinyu0/hw/blob/master/1202.ipynb\" target=\"_parent\"><img src=\"https://colab.research.google.com/assets/colab-badge.svg\" alt=\"Open In Colab\"/></a>"
      ]
    },
    {
      "cell_type": "markdown",
      "metadata": {
        "id": "68nu9lOFI4Au"
      },
      "source": [
        "第一大題:(第一題)找零問題"
      ]
    },
    {
      "cell_type": "code",
      "metadata": {
        "id": "Arsp7RbD8rii",
        "colab": {
          "base_uri": "https://localhost:8080/"
        },
        "outputId": "bb50232d-a0e2-4299-df25-64badd2a4dd7"
      },
      "source": [
        "#t=面額\n",
        "t = [25,20,5,1]\n",
        "#n=多少錢\n",
        "def change(t,n):\n",
        "\n",
        "  m = [0 for _ in range(len(t))]\n",
        "  for i,money in enumerate(t):\n",
        "    m[i] = n // money #除法向下取整數\n",
        "    n = n % money #除法取餘數\n",
        "    print(m,end=\"\")\n",
        "    print(n)\n",
        "\n",
        "\n",
        "print(change(t,41))"
      ],
      "execution_count": null,
      "outputs": [
        {
          "output_type": "stream",
          "text": [
            "[1, 0, 0, 0]16\n",
            "[1, 0, 0, 0]16\n",
            "[1, 0, 3, 0]1\n",
            "[1, 0, 3, 1]0\n",
            "None\n"
          ],
          "name": "stdout"
        }
      ]
    },
    {
      "cell_type": "markdown",
      "metadata": {
        "id": "RXgZXiBjOTd3"
      },
      "source": [
        "第一大題:(第二題)用動態規劃解決找零問題(用DP找出最佳解)"
      ]
    },
    {
      "cell_type": "code",
      "metadata": {
        "colab": {
          "base_uri": "https://localhost:8080/"
        },
        "id": "P05L7gN6ObpL",
        "outputId": "be8fd4f8-a216-44d4-9f96-e6ec5f6a1d62"
      },
      "source": [
        "def coin_change(coins,change,dp,coins_used):\n",
        "\t'''利用動態規劃求解找零需要的錢幣張數，以及錢幣的使用情況'''\n",
        "\tfor i in range(1,change+1):\n",
        "\t\t#依次求解，dp[1]~dp[change]\n",
        "\t\tfor j in range(len(coins)):\n",
        "\t\t\tif coins[j]<=i:\n",
        "\t\t\t\t#使用這張錢幣的前提，紙幣的金額數<=需要找零的金額，比如：找零8塊，不能使用10塊的錢幣\n",
        "\t\t\t\tif dp[i-coins[j]]+1<dp[i]:\n",
        "\t\t\t\t\t#dp[i]=min(dp[i],dp[i-coins[j]]+1)\n",
        "\t\t\t\t\tdp[i]=dp[i-coins[j]]+1\n",
        "\t\t\t\t\t#記錄使用的錢幣\n",
        "\t\t\t\t\tnew_coin=coins[j]\n",
        "\t\tcoins_used[i]=new_coin\n",
        "\n",
        "\tif dp[change]>change:\n",
        "\t\t#無解的情況，初始化的時候設置dp[change]=change+1\n",
        "\t\treturn -1\n",
        "\telse:\n",
        "\t\treturn dp[change]\n",
        "def used_coins(change,used_coins):\n",
        "\t'''利用used_coins求解使用的錢幣'''\n",
        "\tre=[]\n",
        "\twhile change:\n",
        "\t\t#dp[i]=dp[i-coins[j]]+1    used_coins[change]=coins[j]\n",
        "\t\ttmp=used_coins[change]\n",
        "\t\tre.append(tmp)\n",
        "\t\tchange-=tmp\n",
        "\treturn re\n",
        "\n",
        "if __name__=='__main__':\n",
        "\t#初始化\n",
        "\tcoins=[25,20,5,1]\n",
        "\tchange=41\n",
        "\tdp=[change+1]*(change+1)\n",
        "\tdp[0]=0\n",
        "\tcoins_used=[0]*(change+1)\n",
        "\n",
        "\tre=coin_change(coins,change,dp,coins_used)\n",
        "\tre_coins=used_coins(change,coins_used)\n",
        "\tprint(\"找給顧客{0}分錢幣需要{1}張錢幣,分別是{2}\".format(change,re,re_coins))"
      ],
      "execution_count": null,
      "outputs": [
        {
          "output_type": "stream",
          "text": [
            "找給顧客41分錢幣需要3張錢幣,分別是[20, 20, 1]\n"
          ],
          "name": "stdout"
        }
      ]
    },
    {
      "cell_type": "markdown",
      "metadata": {
        "id": "Ap6N2SXiTpTG"
      },
      "source": [
        "第二大題:(第一題)如何帶走最有價值的物品，用貪婪法解決問題"
      ]
    },
    {
      "cell_type": "code",
      "metadata": {
        "colab": {
          "base_uri": "https://localhost:8080/"
        },
        "id": "Y80iJFtG5tyk",
        "outputId": "339f7309-226b-4ed0-ca65-71c3345d4e62"
      },
      "source": [
        "def knapsack(bag,weight,value):\r\n",
        "  rate=[v/w for v , w in zip(value,weight)]\r\n",
        "  n = len(weight)\r\n",
        "  index = list(range(n))\r\n",
        "  index.sort(key=lambda i: rate[i] ,reverse = True)\r\n",
        "  max_value = 0\r\n",
        "  res = [0]*n\r\n",
        "\r\n",
        "  for i in index:\r\n",
        "    if weight[i] <= bag:\r\n",
        "      max_value += value[i]\r\n",
        "      bag -= weight[i]\r\n",
        "      res[i] = 1\r\n",
        "    else:\r\n",
        "      res[i] = bag // weight[i] \r\n",
        "      max_value += value[i] * res[i]\r\n",
        "      break\r\n",
        "  print(res)\r\n",
        "  return max_value\r\n",
        "  print(rate)\r\n",
        "\r\n",
        "weight = [5,1,4,3,2]\r\n",
        "value = [17000,35000,60000,9000,20000]\r\n",
        "bag = 10\r\n",
        "print(knapsack(bag,weight,value))"
      ],
      "execution_count": 12,
      "outputs": [
        {
          "output_type": "stream",
          "text": [
            "[0, 1, 1, 0, 1]\n",
            "115000\n"
          ],
          "name": "stdout"
        }
      ]
    },
    {
      "cell_type": "code",
      "metadata": {
        "id": "nVecxMiST1P9",
        "colab": {
          "base_uri": "https://localhost:8080/"
        },
        "outputId": "cfe0b908-d71f-48d1-99af-119b6f48d180"
      },
      "source": [
        "#商品可以拿不只一次\r\n",
        "from functools import reduce\r\n",
        "\r\n",
        "def knapsack(goods, limit):\r\n",
        "    def nextVI(i, values, items):\r\n",
        "        return reduce(\r\n",
        "            (lambda vis, vi: (vis[0] + [vi[0]], vis[1] + [vi[1]])),  \r\n",
        "            [(values[w - goods[i][1]] + goods[i][2], i) \r\n",
        "                if w >= goods[i][1] and w < limit + 1 and\r\n",
        "                    values[w - goods[i][1]] + goods[i][2] > values[w] \r\n",
        "                else (values[w], items[w]) for w in range(len(values))], \r\n",
        "            ([], [])\r\n",
        "        )\r\n",
        "\r\n",
        "    def iterate(i):\r\n",
        "        if i == 0:\r\n",
        "            return nextVI(i, [0] * (limit + 1), [0] * (limit + 1))\r\n",
        "        else:\r\n",
        "            values, items = iterate(i - 1)\r\n",
        "            return nextVI(i, values, items)\r\n",
        "\r\n",
        "    def solution(i, items, minWeight):\r\n",
        "        return (([goods[items[i]]] + \r\n",
        "                    solution(i - goods[items[i]][1], items, minWeight)) \r\n",
        "                if i >= minWeight else [])\r\n",
        "\r\n",
        "    return solution(limit, \r\n",
        "               iterate(len(goods) - 1)[1], min([f[1] for f in goods]))\r\n",
        "    \r\n",
        "print(knapsack([('PS5', 5, 17000), ('iPad pro 12', 1, 35000),\r\n",
        "                ('Macbook pro 15', 4, 60000), ('HomePod', 3, 9000),\r\n",
        "                ('Mac mini', 2, 20000)], 10))"
      ],
      "execution_count": 9,
      "outputs": [
        {
          "output_type": "stream",
          "text": [
            "[('Mac mini', 2, 20000), ('Mac mini', 2, 20000), ('Macbook pro 15', 4, 60000), ('iPad pro 12', 1, 35000), ('iPad pro 12', 1, 35000)]\n"
          ],
          "name": "stdout"
        }
      ]
    },
    {
      "cell_type": "markdown",
      "metadata": {
        "id": "_SDAja-iT19b"
      },
      "source": [
        "第二大題:(第二題)如何帶走最有價值的物品，用動態規劃求出最佳解"
      ]
    },
    {
      "cell_type": "code",
      "metadata": {
        "id": "Tqncs01wT8vW",
        "colab": {
          "base_uri": "https://localhost:8080/"
        },
        "outputId": "3cfd5bb0-6fb3-4bcb-ea90-0831afd1e0f8"
      },
      "source": [
        "import numpy as np\r\n",
        "def knapsack():\r\n",
        "  Total = 10\r\n",
        "  num = 5\r\n",
        "  v = [5,1,4,3,2]\r\n",
        "  price = [17000,35000,60000,9000,20000]\r\n",
        "  sum = np.zeros((num+1,Total+1)) \r\n",
        "\r\n",
        "  for ele in range(num+1): \r\n",
        "    for c in range(Total+1): \r\n",
        "      if(ele==0): \r\n",
        "        sum[ele][c]=0\r\n",
        "      else:\r\n",
        "        sum[ele][c]=sum[ele-1][c]\r\n",
        "      if(ele>0 and c>=v[ele-1]): \r\n",
        "        sum[ele][c]=max(sum[ele-1][c],sum[ele-1][c-v[ele-1]]+price[ele-1])\r\n",
        "\r\n",
        "  print(\"DP最大金額:\",sum[num][Total])\r\n",
        "\r\n",
        "  knapsack=np.zeros((num))\r\n",
        "  volume = Total\r\n",
        "  for ele in range(num,-1,-1): \r\n",
        "    if(sum[ele][volume]>sum[ele-1][volume]):\r\n",
        "      knapsack[ele-1]=1 \r\n",
        "      volume=volume-v[ele-1]\r\n",
        "\r\n",
        "  print(\"3C用品裝到包包情况:\",knapsack)\r\n",
        "\r\n",
        "if __name__==\"__main__\":\r\n",
        "  knapsack()"
      ],
      "execution_count": 11,
      "outputs": [
        {
          "output_type": "stream",
          "text": [
            "DP最大金額: 124000.0\n",
            "3C用品裝到包包情况: [0. 1. 1. 1. 1.]\n"
          ],
          "name": "stdout"
        }
      ]
    }
  ]
}