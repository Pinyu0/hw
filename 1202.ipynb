{
  "nbformat": 4,
  "nbformat_minor": 0,
  "metadata": {
    "colab": {
      "name": "1202.ipynb",
      "provenance": [],
      "authorship_tag": "ABX9TyNsQcFwufroe2h1ubuq8xXT",
      "include_colab_link": true
    },
    "kernelspec": {
      "name": "python3",
      "display_name": "Python 3"
    }
  },
  "cells": [
    {
      "cell_type": "markdown",
      "metadata": {
        "id": "view-in-github",
        "colab_type": "text"
      },
      "source": [
        "<a href=\"https://colab.research.google.com/github/Pinyu0/hw/blob/master/1202.ipynb\" target=\"_parent\"><img src=\"https://colab.research.google.com/assets/colab-badge.svg\" alt=\"Open In Colab\"/></a>"
      ]
    },
    {
      "cell_type": "markdown",
      "metadata": {
        "id": "68nu9lOFI4Au"
      },
      "source": [
        "第一大題:(第一題)找零問題"
      ]
    },
    {
      "cell_type": "code",
      "metadata": {
        "id": "Arsp7RbD8rii",
        "colab": {
          "base_uri": "https://localhost:8080/"
        },
        "outputId": "bb50232d-a0e2-4299-df25-64badd2a4dd7"
      },
      "source": [
        "#t=面額\n",
        "t = [25,20,5,1]\n",
        "#n=多少錢\n",
        "def change(t,n):\n",
        "\n",
        "  m = [0 for _ in range(len(t))]\n",
        "  for i,money in enumerate(t):\n",
        "    m[i] = n // money #除法向下取整數\n",
        "    n = n % money #除法取餘數\n",
        "    print(m,end=\"\")\n",
        "    print(n)\n",
        "\n",
        "\n",
        "print(change(t,41))"
      ],
      "execution_count": 20,
      "outputs": [
        {
          "output_type": "stream",
          "text": [
            "[1, 0, 0, 0]16\n",
            "[1, 0, 0, 0]16\n",
            "[1, 0, 3, 0]1\n",
            "[1, 0, 3, 1]0\n",
            "None\n"
          ],
          "name": "stdout"
        }
      ]
    },
    {
      "cell_type": "markdown",
      "metadata": {
        "id": "RXgZXiBjOTd3"
      },
      "source": [
        "第一大題:(第二題)用動態規劃解決找零問題(用DP找出最佳解)"
      ]
    },
    {
      "cell_type": "code",
      "metadata": {
        "colab": {
          "base_uri": "https://localhost:8080/"
        },
        "id": "P05L7gN6ObpL",
        "outputId": "be8fd4f8-a216-44d4-9f96-e6ec5f6a1d62"
      },
      "source": [
        "def coin_change(coins,change,dp,coins_used):\n",
        "\t'''利用動態規劃求解找零需要的錢幣張數，以及錢幣的使用情況'''\n",
        "\tfor i in range(1,change+1):\n",
        "\t\t#依次求解，dp[1]~dp[change]\n",
        "\t\tfor j in range(len(coins)):\n",
        "\t\t\tif coins[j]<=i:\n",
        "\t\t\t\t#使用這張錢幣的前提，紙幣的金額數<=需要找零的金額，比如：找零8塊，不能使用10塊的錢幣\n",
        "\t\t\t\tif dp[i-coins[j]]+1<dp[i]:\n",
        "\t\t\t\t\t#dp[i]=min(dp[i],dp[i-coins[j]]+1)\n",
        "\t\t\t\t\tdp[i]=dp[i-coins[j]]+1\n",
        "\t\t\t\t\t#記錄使用的錢幣\n",
        "\t\t\t\t\tnew_coin=coins[j]\n",
        "\t\tcoins_used[i]=new_coin\n",
        "\n",
        "\tif dp[change]>change:\n",
        "\t\t#無解的情況，初始化的時候設置dp[change]=change+1\n",
        "\t\treturn -1\n",
        "\telse:\n",
        "\t\treturn dp[change]\n",
        "def used_coins(change,used_coins):\n",
        "\t'''利用used_coins求解使用的錢幣'''\n",
        "\tre=[]\n",
        "\twhile change:\n",
        "\t\t#dp[i]=dp[i-coins[j]]+1    used_coins[change]=coins[j]\n",
        "\t\ttmp=used_coins[change]\n",
        "\t\tre.append(tmp)\n",
        "\t\tchange-=tmp\n",
        "\treturn re\n",
        "\n",
        "if __name__=='__main__':\n",
        "\t#初始化\n",
        "\tcoins=[25,20,5,1]\n",
        "\tchange=41\n",
        "\tdp=[change+1]*(change+1)\n",
        "\tdp[0]=0\n",
        "\tcoins_used=[0]*(change+1)\n",
        "\n",
        "\tre=coin_change(coins,change,dp,coins_used)\n",
        "\tre_coins=used_coins(change,coins_used)\n",
        "\tprint(\"找給顧客{0}分錢幣需要{1}張錢幣,分別是{2}\".format(change,re,re_coins))"
      ],
      "execution_count": 18,
      "outputs": [
        {
          "output_type": "stream",
          "text": [
            "找給顧客41分錢幣需要3張錢幣,分別是[20, 20, 1]\n"
          ],
          "name": "stdout"
        }
      ]
    },
    {
      "cell_type": "markdown",
      "metadata": {
        "id": "Ap6N2SXiTpTG"
      },
      "source": [
        "第二大題:(第一題)如何帶走最有價值的物品，用貪婪法解決問題"
      ]
    },
    {
      "cell_type": "code",
      "metadata": {
        "id": "nVecxMiST1P9"
      },
      "source": [
        ""
      ],
      "execution_count": null,
      "outputs": []
    },
    {
      "cell_type": "markdown",
      "metadata": {
        "id": "_SDAja-iT19b"
      },
      "source": [
        "第二大題:(第二題)如何帶走最有價值的物品，用動態規劃求出最佳解"
      ]
    },
    {
      "cell_type": "code",
      "metadata": {
        "id": "Tqncs01wT8vW"
      },
      "source": [
        ""
      ],
      "execution_count": null,
      "outputs": []
    }
  ]
}